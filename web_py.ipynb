{
  "nbformat": 4,
  "nbformat_minor": 0,
  "metadata": {
    "colab": {
      "provenance": [],
      "authorship_tag": "ABX9TyO+8rdTEUyxQEimY0AaNWoh",
      "include_colab_link": true
    },
    "kernelspec": {
      "name": "python3",
      "display_name": "Python 3"
    },
    "language_info": {
      "name": "python"
    }
  },
  "cells": [
    {
      "cell_type": "markdown",
      "metadata": {
        "id": "view-in-github",
        "colab_type": "text"
      },
      "source": [
        "<a href=\"https://colab.research.google.com/github/BhuvaneswariRajkumar/InnovixionTech-Nov2/blob/main/web_py.ipynb\" target=\"_parent\"><img src=\"https://colab.research.google.com/assets/colab-badge.svg\" alt=\"Open In Colab\"/></a>"
      ]
    },
    {
      "cell_type": "code",
      "execution_count": null,
      "metadata": {
        "id": "dkBYlNtpF5Kz"
      },
      "outputs": [],
      "source": [
        "import requests\n",
        "from bs4 import BeautifulSoup\n",
        "import pandas as pd"
      ]
    },
    {
      "cell_type": "code",
      "source": [
        "URL = \"https://books.toscrape.com/\""
      ],
      "metadata": {
        "id": "9mwHO8peGDJW"
      },
      "execution_count": null,
      "outputs": []
    },
    {
      "cell_type": "code",
      "source": [
        "response = requests.get(URL)"
      ],
      "metadata": {
        "id": "G3KKaoyuGIuZ"
      },
      "execution_count": null,
      "outputs": []
    },
    {
      "cell_type": "code",
      "source": [
        "soup=BeautifulSoup(response.text)"
      ],
      "metadata": {
        "id": "bEANjwSbGN2b"
      },
      "execution_count": null,
      "outputs": []
    },
    {
      "cell_type": "code",
      "source": [
        "listings = soup.find_all(class_=\"col-xs-6 col-sm-4 col-md-3 col-lg-3\")"
      ],
      "metadata": {
        "id": "TXTKqDprGYEr"
      },
      "execution_count": null,
      "outputs": []
    },
    {
      "cell_type": "code",
      "source": [
        "books = []"
      ],
      "metadata": {
        "id": "EDaARqj7GZ-k"
      },
      "execution_count": null,
      "outputs": []
    },
    {
      "cell_type": "code",
      "source": [
        "for listing in listings:\n",
        " product_name = listing.find(\"article\").find(\"h3\").a.attrs.get(\"title\")\n",
        " product_price = listing.find(\"div\",class_=\"product_price\").p.text\n",
        " books.append(\n",
        "      {\n",
        "\n",
        "   \"Book Name\": product_name,\n",
        "   \"price\": product_price\n",
        "\n",
        "      }\n",
        " )"
      ],
      "metadata": {
        "id": "xsTZqYJ5Gr86"
      },
      "execution_count": null,
      "outputs": []
    },
    {
      "cell_type": "code",
      "source": [
        "df = pd.DataFrame(books)\n",
        "df.to_csv(\"books.csv\", index=False)"
      ],
      "metadata": {
        "id": "uR4RTq9YGwxR"
      },
      "execution_count": null,
      "outputs": []
    }
  ]
}